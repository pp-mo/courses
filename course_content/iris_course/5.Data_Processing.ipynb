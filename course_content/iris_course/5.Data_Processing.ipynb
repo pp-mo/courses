{
 "cells": [
  {
   "cell_type": "code",
   "execution_count": null,
   "metadata": {},
   "outputs": [],
   "source": [
    "%matplotlib inline"
   ]
  },
  {
   "cell_type": "markdown",
   "metadata": {},
   "source": [
    "## Iris introduction course\n",
    "# 5. Data Processing\n",
    "\n",
    "**Learning Outcome**: by the end of this section, you will be able to explain the capabilities and functionality of Iris Cubes and Coordinates.\n",
    "\n",
    "**Duration:** 1.5 hour\n",
    "\n",
    "**Overview:**<br>\n",
    "5.1 [Cube Arithmetic](#arithmetic)<br>\n",
    "5.2 [Aggregation and Statistics](#agg_and_stats)<br>\n",
    "5.3 [Exercise : statistics and visualisation](#ex_5)<br>\n",
    "5.4 [Summary of the Section](#summary)"
   ]
  },
  {
   "cell_type": "markdown",
   "metadata": {},
   "source": [
    "## Setup"
   ]
  },
  {
   "cell_type": "code",
   "execution_count": null,
   "metadata": {},
   "outputs": [],
   "source": [
    "import iris\n",
    "import numpy as np"
   ]
  },
  {
   "cell_type": "markdown",
   "metadata": {},
   "source": [
    "## 5.1 Cube Arithmetic<a id='arithmetic'></a>\n",
    "\n",
    "Basic mathematical operators exist on the cube to allow one to add, subtract, divide, multiply and perform other mathematical operations on cubes of a similar shape to one another:"
   ]
  },
  {
   "cell_type": "code",
   "execution_count": null,
   "metadata": {},
   "outputs": [],
   "source": [
    "a1b = iris.load_cube(iris.sample_data_path('A1B_north_america.nc'))\n",
    "e1 = iris.load_cube(iris.sample_data_path('E1_north_america.nc'))\n",
    "\n",
    "print(e1.summary(True))\n",
    "print(a1b)"
   ]
  },
  {
   "cell_type": "code",
   "execution_count": null,
   "metadata": {},
   "outputs": [],
   "source": [
    "scenario_difference = a1b - e1\n",
    "print(scenario_difference)"
   ]
  },
  {
   "cell_type": "markdown",
   "metadata": {},
   "source": []
  },
  {
   "cell_type": "markdown",
   "metadata": {},
   "source": [
    "Notice that the resultant cube's name is now `unknown` and that resultant cube's `attributes` and `cell_methods` have disappeared; this is because these all differed between the two input cubes."
   ]
  },
  {
   "cell_type": "markdown",
   "metadata": {},
   "source": [
    "It is also possible to operate on cubes with numeric scalars, NumPy arrays and even cube coordinates:"
   ]
  },
  {
   "cell_type": "code",
   "execution_count": null,
   "metadata": {},
   "outputs": [],
   "source": [
    "print(e1 * e1.coord('latitude'))"
   ]
  },
  {
   "cell_type": "markdown",
   "metadata": {},
   "source": [
    "Cube broadcasting is also taking place, meaning that the two inputs (cube, coordinate, array, or even constant value) don't need to have the same shape:"
   ]
  },
  {
   "cell_type": "code",
   "execution_count": null,
   "metadata": {},
   "outputs": [],
   "source": [
    "print(e1 + 5.0)"
   ]
  },
  {
   "cell_type": "markdown",
   "metadata": {},
   "source": [
    "As we've just seen, we have the ability to update the cube's data directly. Whenever we do this though, we should be mindful of updating appropriate metadata on the cube:"
   ]
  },
  {
   "cell_type": "code",
   "execution_count": null,
   "metadata": {},
   "outputs": [],
   "source": [
    "e1_hot = e1.copy()\n",
    "\n",
    "e1_hot.data = np.ma.masked_less_equal(e1_hot.data, 280)\n",
    "e1_hot.rename('air temperatures greater than 280K')\n",
    "print(e1_hot)"
   ]
  },
  {
   "cell_type": "markdown",
   "metadata": {},
   "source": [
    "## 5.2 Cube aggregation and statistics<a id='agg_and_stats'></a>\n",
    "\n",
    "Many standard univariate aggregations exist in Iris. Aggregations allow one or more dimensions of a cube to be statistically collapsed for the purposes of statistical analysis of the cube's data. Iris uses the term 'aggregators' to refer to the statistical operations that can be used for aggregation.\n",
    "\n",
    "A list of aggregators is available at http://scitools.org.uk/iris/docs/latest/iris/iris/analysis.html."
   ]
  },
  {
   "cell_type": "code",
   "execution_count": null,
   "metadata": {},
   "outputs": [],
   "source": [
    "fname = iris.sample_data_path('uk_hires.pp')\n",
    "cube = iris.load_cube(fname, 'air_potential_temperature')\n",
    "print(cube.summary(True))"
   ]
  },
  {
   "cell_type": "markdown",
   "metadata": {},
   "source": [
    "To take the vertical mean of this cube:"
   ]
  },
  {
   "cell_type": "code",
   "execution_count": null,
   "metadata": {},
   "outputs": [],
   "source": [
    "print(cube.collapsed('model_level_number', iris.analysis.MEAN))"
   ]
  },
  {
   "cell_type": "markdown",
   "metadata": {},
   "source": [
    "----"
   ]
  },
  {
   "cell_type": "markdown",
   "metadata": {},
   "source": [
    "Some other types of statistical calculation are also provided.  See the following documentation areas :\n",
    "\n",
    " * [Cube.collapsed](https://scitools.org.uk/iris/docs/latest/iris/iris/cube.html?highlight=collapsed#iris.cube.Cube.collapsed), as discussed above.\n",
    " * [Cube.rolling_window](https://scitools.org.uk/iris/docs/latest/iris/iris/cube.html?highlight=rolling#iris.cube.Cube.rolling_window).\n",
    " * [Cube.aggregated_by](https://scitools.org.uk/iris/docs/latest/iris/iris/cube.html?highlight=aggregated_by#iris.cube.Cube.aggregated_by), used with the [coord_categorisation module](https://scitools.org.uk/iris/docs/latest/iris/iris/coord_categorisation.html?highlight=categor#module-iris.coord_categorisation).  \n",
    "This provides \"group-by-and-reduce\" type calculations -- these are explained later in section 6, \"Advanced Concepts\"."
   ]
  },
  {
   "cell_type": "markdown",
   "metadata": {},
   "source": [
    "## 5.3 : Exercise 5 - statistics and visualisation<a id='ex_5'></a>\n",
    "\n",
    "Let's apply all that we've learned about data processing and visualisation in Iris. We will perform data processing and visualisation to compare two possible climate futures scenarios, called the A1B scenario and the E1 scenario."
   ]
  },
  {
   "cell_type": "markdown",
   "metadata": {},
   "source": [
    "1\\. Load as cubes the datasets found at `iris.sample_data_path('E1_north_america.nc')` and `iris.sample_data_path('A1B_north_america.nc')`. Print the summary of each cube."
   ]
  },
  {
   "cell_type": "code",
   "execution_count": null,
   "metadata": {},
   "outputs": [],
   "source": [
    "cube_e1 = iris.load_cube(iris.sample_data_path('E1_north_america.nc'))\n",
    "cube_a1b = iris.load_cube(iris.sample_data_path('A1B_north_america.nc'))\n",
    "print(cube_e1.summary())\n",
    "print(cube_a1b.summary())"
   ]
  },
  {
   "cell_type": "markdown",
   "metadata": {},
   "source": [
    "2a\\. Plot the following data in a single figure with three maps in one row:\n",
    "\n",
    " * the air temperature in the E1 scenario in 2099, \n",
    " * the air temperature in the A1B scenario in 2099, and\n",
    " * the difference between the two scenarios.\n",
    "\n",
    "Think about the most appropriate matplotlib colormap(s) to use for each plot. Hint: the different matplotlib colormaps can be seen at https://matplotlib.org/1.5.3/examples/color/colormaps_reference.html. "
   ]
  },
  {
   "cell_type": "code",
   "execution_count": null,
   "metadata": {},
   "outputs": [],
   "source": [
    "# First extract only one year from each.\n",
    "def date_in_year_2099(time_cell):\n",
    "    return time_cell.point.year == 2099\n",
    "\n",
    "year_2099_constraint = iris.Constraint(time=date_in_year_2099)\n",
    "e1_2099 = cube_e1.extract(year_2099_constraint)\n",
    "a1b_2099 = cube_a1b.extract(year_2099_constraint)\n",
    "\n",
    "# Print the results : only one timepoint, so they are 2-D.\n",
    "print(e1_2099.summary(shorten=True))\n",
    "print(a1b_2099.summary(shorten=True))\n",
    "\n",
    "# Calculate the difference.\n",
    "difference = a1b_2099 - e1_2099\n",
    "\n",
    "# Plot them ...\n",
    "import matplotlib.pyplot as plt\n",
    "import iris.quickplot as qplt\n",
    "\n",
    "plt.figure(figsize=(16,6))\n",
    "\n",
    "originals_min = min(e1_2099.data.min(), a1b_2099.data.min())\n",
    "originals_max = max(e1_2099.data.max(), a1b_2099.data.max())\n",
    "\n",
    "# Display forecast temperatures on an absolute colour scale, with the same value range for both.\n",
    "# The difference is rather hard to see, so specify a high-contrast colormap to help with that.\n",
    "plt.subplot(1, 3, 1)\n",
    "qplt.pcolormesh(e1_2099, vmin=originals_min, vmax=originals_max, cmap='brg')\n",
    "plt.title('Scenario E1, year 2099')\n",
    "\n",
    "plt.subplot(1, 3, 2)\n",
    "qplt.pcolormesh(a1b_2099, vmin=originals_min, vmax=originals_max, cmap='brg')\n",
    "plt.title('Scenario A1B, year 2099')\n",
    "\n",
    "plt.subplot(1, 3, 3)\n",
    "# Calculate symmetrical limits for a zero-centred value range.\n",
    "diff_min, diff_max = np.min(difference.data), np.max(difference.data)\n",
    "diff_maxscale = max(diff_max, -diff_min)\n",
    "# Plot with a 'diverging' colormap, suitable to the zero-centred value range.\n",
    "qplt.pcolormesh(difference, vmin=-diff_maxscale, vmax=diff_maxscale, cmap='bwr')\n",
    "plt.title('Temperature difference A1B - E1,\\n year 2099')\n",
    "\n",
    "print('Note: the last plot is the difference.\\n'\n",
    "      'This uses a \"diverging\" colour scale to show values above and below zero.\\n',\n",
    "      'All the values are positive, so it actually only has shades of red.')\n"
   ]
  },
  {
   "cell_type": "markdown",
   "metadata": {},
   "source": [
    "2b\\. What information do your plots show? "
   ]
  },
  {
   "cell_type": "code",
   "execution_count": null,
   "metadata": {},
   "outputs": [],
   "source": []
  },
  {
   "cell_type": "markdown",
   "metadata": {},
   "source": [
    "3\\. Produce cubes that describe the area-averaged air temperature over time for each scenario. Calculate the model difference between these two cubes.\n",
    "\n",
    "HINT: see the documentation on [iris.cube.Cube.collapsed](https://scitools.org.uk/iris/docs/latest/iris/iris/cube.html#iris.cube.Cube.collapsed)\n",
    "and [iris.analysis.cartography.area_weights](https://scitools.org.uk/iris/docs/latest/iris/iris/analysis/cartography.html#iris.analysis.cartography.area_weights)\n"
   ]
  },
  {
   "cell_type": "code",
   "execution_count": null,
   "metadata": {},
   "outputs": [],
   "source": [
    "import iris.analysis.cartography as icart\n",
    "for cube in (cube_e1, cube_a1b):\n",
    "    for axis in ('x', 'y'):\n",
    "        coord = cube.coord(axis=axis)\n",
    "        if not coord.has_bounds():\n",
    "            coord.guess_bounds()\n",
    "\n",
    "area_weights = icart.area_weights(cube_e1)\n",
    "\n",
    "e1_areamean = cube_e1.collapsed(['latitude', 'longitude'], iris.analysis.MEAN, weights=area_weights)\n",
    "a1b_areamean = cube_a1b.collapsed(['latitude', 'longitude'], iris.analysis.MEAN, weights=area_weights)\n",
    "difference_areamean = a1b_areamean - e1_areamean\n",
    "difference_areamean.rename('Temperature difference, A1B - E1')\n",
    "print(difference_areamean)"
   ]
  },
  {
   "cell_type": "markdown",
   "metadata": {},
   "source": [
    "4\\. Produce a single line plot with the data from the two cubes you produced in part 3. Make sure you label the lines you plot."
   ]
  },
  {
   "cell_type": "code",
   "execution_count": null,
   "metadata": {},
   "outputs": [],
   "source": [
    "# Use iplt rather than qplt, to avoid overlapping titles.\n",
    "import iris.plot as iplt\n",
    "iplt.plot(e1_areamean, '+-', color='blue', label='E1')\n",
    "iplt.plot(a1b_areamean, '+-', color='red', label='A1B')\n",
    "ax = plt.gca()\n",
    "plt.legend()\n",
    "plt.show()"
   ]
  },
  {
   "cell_type": "code",
   "execution_count": null,
   "metadata": {},
   "outputs": [],
   "source": [
    "#\n",
    "# Extended version \n",
    "#  - plot the difference also  \n",
    "#  - use two different Y axes\n",
    "#  - control Y limits to reduce overlap\n",
    "#\n",
    "\n",
    "# Use iplt rather than qplt, to avoid overlapping titles.\n",
    "import iris.plot as iplt\n",
    "iplt.plot(e1_areamean, '+', color='blue', label='E1 Temperature (K)')\n",
    "iplt.plot(a1b_areamean, '+', color='red', label='A1B Temperature (K)')\n",
    "ax = plt.gca()\n",
    "# Modify Y limits slightly to avoid overlaps\n",
    "y0, y1 = ax.get_ylim()\n",
    "margin = 0.2 * (y1 - y0)\n",
    "y0 = y0 - margin\n",
    "ax.set_ylim(y0, y1)\n",
    "ax.set_ylabel('Temperature (K)')\n",
    "\n",
    "# Use twinx to make a second axes with a shared X axis.\n",
    "ax2 = ax.twinx()\n",
    "# Plot the difference signal on that.\n",
    "iplt.plot(difference_areamean, '.-', color='black', label='A1B-E1 (difference)', axes=ax2)\n",
    "# Add a zero-line\n",
    "x0, x1 = ax2.get_xlim()\n",
    "plt.hlines(0.0, x0, x1, color='grey', linewidth=0.5, linestyle='--')\n",
    "ax2.set_ylabel('difference (K)')\n",
    "# Modify Y limits slightly to avoid overlaps\n",
    "y0, y1 = ax2.get_ylim()\n",
    "margin = 0.2 * (y1 - y0)\n",
    "y1 = y1 + margin\n",
    "ax2.set_ylim(y0, y1)\n",
    "\n",
    "# Matplotlib seems to have a problem with building a combined legend. This fixes it.\n",
    "handles1, labels1 = ax.get_legend_handles_labels()\n",
    "handles2, labels2 = ax2.get_legend_handles_labels()\n",
    "plt.legend(handles1 + handles2, labels1 + labels2)\n",
    "\n",
    "plt.show()"
   ]
  },
  {
   "cell_type": "markdown",
   "metadata": {},
   "source": [
    "5\\. Extract and compare the area-averaged air temperature values for both scenarios in 1980 and 2099. What conclusions can you draw from the values you've extracted?"
   ]
  },
  {
   "cell_type": "code",
   "execution_count": null,
   "metadata": {},
   "outputs": [],
   "source": []
  },
  {
   "cell_type": "markdown",
   "metadata": {},
   "source": [
    "----"
   ]
  },
  {
   "cell_type": "markdown",
   "metadata": {},
   "source": [
    "## 5.4 Summary of Section: Data processing<a id='summary'></a>\n",
    "\n",
    "In this section we learnt:\n",
    "* cubes can be combined with arithmetic operators like addition, as for numpy arrays.  Broadcasting also works.\n",
    "* coordinates can also be used in cube arithmetic. \n",
    "* operators are provided to perform statistical aggregations of cube data.\n",
    "* statistics can be calculated over selected dimensions, identified by coordinates.\n"
   ]
  }
 ],
 "metadata": {
  "kernelspec": {
   "display_name": "Python 3",
   "language": "python",
   "name": "python3"
  },
  "language_info": {
   "codemirror_mode": {
    "name": "ipython",
    "version": 3
   },
   "file_extension": ".py",
   "mimetype": "text/x-python",
   "name": "python",
   "nbconvert_exporter": "python",
   "pygments_lexer": "ipython3",
   "version": "3.6.8"
  }
 },
 "nbformat": 4,
 "nbformat_minor": 1
}
