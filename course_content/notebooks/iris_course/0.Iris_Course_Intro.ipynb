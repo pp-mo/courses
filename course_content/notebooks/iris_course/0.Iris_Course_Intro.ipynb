{
 "cells": [
  {
   "cell_type": "markdown",
   "metadata": {},
   "source": [
    "# An Introduction to Iris\n",
    "## Course Intro "
   ]
  },
  {
   "cell_type": "markdown",
   "metadata": {},
   "source": [
    "This course is intended as a beginners course."
   ]
  },
  {
   "cell_type": "markdown",
   "metadata": {},
   "source": [
    "## Course Aim\n",
    "\n",
    "The aim of this course is to introduce Iris and its main features and functionality, with a focus on how these relate to data analysis.\n",
    "\n",
    "The course will cover:\n",
    "1. [The Iris Cube](1.The_Iris_Cube.ipynb)\n",
    "2. [Loading and Saving Data](2.Loading_and_Saving.ipynb)\n",
    "3. [Cube Control and Subsetting](#cube_control_and_subsetting)\n",
    "4. [Data Processing](#data_processing)\n",
    "5. [Advanced Concepts](#advanced_concepts)"
   ]
  },
  {
   "cell_type": "code",
   "execution_count": 1,
   "metadata": {},
   "outputs": [
    {
     "name": "stdout",
     "output_type": "stream",
     "text": [
      "2.2.0\n"
     ]
    }
   ],
   "source": [
    "import iris\n",
    "print(iris.__version__)"
   ]
  }
 ],
 "metadata": {
  "kernelspec": {
   "display_name": "Python 3",
   "language": "python",
   "name": "python3"
  },
  "language_info": {
   "codemirror_mode": {
    "name": "ipython",
    "version": 3
   },
   "file_extension": ".py",
   "mimetype": "text/x-python",
   "name": "python",
   "nbconvert_exporter": "python",
   "pygments_lexer": "ipython3",
   "version": "3.6.6"
  }
 },
 "nbformat": 4,
 "nbformat_minor": 2
}
